{
  "cells": [
    {
      "cell_type": "markdown",
      "metadata": {
        "id": "HlVVkmrxwAFU"
      },
      "source": [
        "# SQL - Cumulative Lab\n",
        "\n",
        "## Introduction\n",
        "\n",
        "In this lesson, we'll run through some practice questions to reinforce your knowledge of SQL queries.\n",
        "\n",
        "## Objectives\n",
        "\n",
        "You will be able to:\n",
        "\n",
        "- Practice interpreting \"word problems\" and translating them into SQL queries\n",
        "- Practice deciding and performing whichever type of `JOIN` is best for retrieving desired data\n",
        "- Practice using `GROUP BY` statements in SQL to apply aggregate functions like `COUNT`, `MAX`, `MIN`, and `SUM`\n",
        "- Practice using the `HAVING` clause to compare different aggregates\n",
        "- Practice writing subqueries to decompose complex queries"
      ]
    },
    {
      "cell_type": "markdown",
      "metadata": {
        "id": "kV9TzUWowAFW"
      },
      "source": [
        "## Your Task: Querying a Customer Database\n",
        "\n",
        "![shelves filled with colorful model cars](https://curriculum-content.s3.amazonaws.com/data-science/images/model_cars.jpg)\n",
        "\n",
        "Photo by <a href=\"https://unsplash.com/@bright?utm_source=unsplash&utm_medium=referral&utm_content=creditCopyText\">Karen Vardazaryan</a> on <a href=\"/s/photos/model-car?utm_source=unsplash&utm_medium=referral&utm_content=creditCopyText\">Unsplash</a>\n",
        "\n",
        "### Business Understanding\n",
        "\n",
        "Your employer makes miniature models of products such as classic cars, motorcycles, and planes. They want you to pull several reports on different segments of their past customers, in order to better understand past sales as well as determine which customers will receive promotional material.\n",
        "\n",
        "### Data Understanding\n",
        "\n",
        "You may remember this database from a previous lab. As a refresher, here's the ERD diagram for this database:\n",
        "\n",
        "<img src='https://curriculum-content.s3.amazonaws.com/data-science/images/Database-Schema.png'>\n",
        "\n",
        "The queries you are asked to write will become more complex over the course of the lab."
      ]
    },
    {
      "cell_type": "markdown",
      "metadata": {
        "id": "eZM8DlTywAFW"
      },
      "source": [
        "## Getting Started\n",
        "\n",
        "As in previous labs, we'll make use of the `sqlite3` library as well as `pandas`. By combining them, we'll be able to write queries as Python strings, then display the results in a conveniently-formatted table.\n",
        "\n",
        "***Note:*** Throughout this lesson, the only thing you will need to change is the content of the strings containing SQL queries. You do NOT need to modify any of the code relating to `pandas`; this is just to help make the output more readable.\n",
        "\n",
        "In the cell below, we:\n",
        "\n",
        "* Import the necessary libraries, `pandas` and `sqlite3`\n",
        "* Establish a connection to the database `data.sqlite`, called `conn`"
      ]
    },
    {
      "cell_type": "code",
      "execution_count": 14,
      "metadata": {
        "id": "StrcBrn6wAFX"
      },
      "outputs": [],
      "source": [
        "# Run this cell without changes\n",
        "import sqlite3\n",
        "import pandas as pd\n",
        "\n",
        "conn = sqlite3.Connection(\"data.sqlite\")"
      ]
    },
    {
      "cell_type": "markdown",
      "metadata": {
        "id": "K4XbfF7JwAFX"
      },
      "source": [
        "The basic structure of a query in this lab is:\n",
        "\n",
        "* Write the SQL query inside of the Python string\n",
        "* Use `pd.read_sql` to display the results of the query in a formatted table\n",
        "\n",
        "For example, if we wanted to select a list of all product lines from the company, that would look like this:"
      ]
    },
    {
      "cell_type": "code",
      "execution_count": 15,
      "metadata": {
        "colab": {
          "base_uri": "https://localhost:8080/",
          "height": 512
        },
        "id": "LyS6kYMdwAFX",
        "outputId": "efea0dd8-a407-4339-ae4a-04e6fa5b3bd2"
      },
      "outputs": [
        {
          "output_type": "error",
          "ename": "DatabaseError",
          "evalue": "Execution failed on sql '\nSELECT productline\nFROM productLines\n;\n': no such table: productLines",
          "traceback": [
            "\u001b[0;31m---------------------------------------------------------------------------\u001b[0m",
            "\u001b[0;31mOperationalError\u001b[0m                          Traceback (most recent call last)",
            "\u001b[0;32m/usr/local/lib/python3.11/dist-packages/pandas/io/sql.py\u001b[0m in \u001b[0;36mexecute\u001b[0;34m(self, sql, params)\u001b[0m\n\u001b[1;32m   2673\u001b[0m         \u001b[0;32mtry\u001b[0m\u001b[0;34m:\u001b[0m\u001b[0;34m\u001b[0m\u001b[0;34m\u001b[0m\u001b[0m\n\u001b[0;32m-> 2674\u001b[0;31m             \u001b[0mcur\u001b[0m\u001b[0;34m.\u001b[0m\u001b[0mexecute\u001b[0m\u001b[0;34m(\u001b[0m\u001b[0msql\u001b[0m\u001b[0;34m,\u001b[0m \u001b[0;34m*\u001b[0m\u001b[0margs\u001b[0m\u001b[0;34m)\u001b[0m\u001b[0;34m\u001b[0m\u001b[0;34m\u001b[0m\u001b[0m\n\u001b[0m\u001b[1;32m   2675\u001b[0m             \u001b[0;32mreturn\u001b[0m \u001b[0mcur\u001b[0m\u001b[0;34m\u001b[0m\u001b[0;34m\u001b[0m\u001b[0m\n",
            "\u001b[0;31mOperationalError\u001b[0m: no such table: productLines",
            "\nThe above exception was the direct cause of the following exception:\n",
            "\u001b[0;31mDatabaseError\u001b[0m                             Traceback (most recent call last)",
            "\u001b[0;32m/tmp/ipython-input-3978629026.py\u001b[0m in \u001b[0;36m<cell line: 0>\u001b[0;34m()\u001b[0m\n\u001b[1;32m      6\u001b[0m \"\"\"\n\u001b[1;32m      7\u001b[0m \u001b[0;34m\u001b[0m\u001b[0m\n\u001b[0;32m----> 8\u001b[0;31m \u001b[0mpd\u001b[0m\u001b[0;34m.\u001b[0m\u001b[0mread_sql\u001b[0m\u001b[0;34m(\u001b[0m\u001b[0mq0\u001b[0m\u001b[0;34m,\u001b[0m \u001b[0mconn\u001b[0m\u001b[0;34m)\u001b[0m\u001b[0;34m\u001b[0m\u001b[0;34m\u001b[0m\u001b[0m\n\u001b[0m",
            "\u001b[0;32m/usr/local/lib/python3.11/dist-packages/pandas/io/sql.py\u001b[0m in \u001b[0;36mread_sql\u001b[0;34m(sql, con, index_col, coerce_float, params, parse_dates, columns, chunksize, dtype_backend, dtype)\u001b[0m\n\u001b[1;32m    704\u001b[0m     \u001b[0;32mwith\u001b[0m \u001b[0mpandasSQL_builder\u001b[0m\u001b[0;34m(\u001b[0m\u001b[0mcon\u001b[0m\u001b[0;34m)\u001b[0m \u001b[0;32mas\u001b[0m \u001b[0mpandas_sql\u001b[0m\u001b[0;34m:\u001b[0m\u001b[0;34m\u001b[0m\u001b[0;34m\u001b[0m\u001b[0m\n\u001b[1;32m    705\u001b[0m         \u001b[0;32mif\u001b[0m \u001b[0misinstance\u001b[0m\u001b[0;34m(\u001b[0m\u001b[0mpandas_sql\u001b[0m\u001b[0;34m,\u001b[0m \u001b[0mSQLiteDatabase\u001b[0m\u001b[0;34m)\u001b[0m\u001b[0;34m:\u001b[0m\u001b[0;34m\u001b[0m\u001b[0;34m\u001b[0m\u001b[0m\n\u001b[0;32m--> 706\u001b[0;31m             return pandas_sql.read_query(\n\u001b[0m\u001b[1;32m    707\u001b[0m                 \u001b[0msql\u001b[0m\u001b[0;34m,\u001b[0m\u001b[0;34m\u001b[0m\u001b[0;34m\u001b[0m\u001b[0m\n\u001b[1;32m    708\u001b[0m                 \u001b[0mindex_col\u001b[0m\u001b[0;34m=\u001b[0m\u001b[0mindex_col\u001b[0m\u001b[0;34m,\u001b[0m\u001b[0;34m\u001b[0m\u001b[0;34m\u001b[0m\u001b[0m\n",
            "\u001b[0;32m/usr/local/lib/python3.11/dist-packages/pandas/io/sql.py\u001b[0m in \u001b[0;36mread_query\u001b[0;34m(self, sql, index_col, coerce_float, parse_dates, params, chunksize, dtype, dtype_backend)\u001b[0m\n\u001b[1;32m   2736\u001b[0m         \u001b[0mdtype_backend\u001b[0m\u001b[0;34m:\u001b[0m \u001b[0mDtypeBackend\u001b[0m \u001b[0;34m|\u001b[0m \u001b[0mLiteral\u001b[0m\u001b[0;34m[\u001b[0m\u001b[0;34m\"numpy\"\u001b[0m\u001b[0;34m]\u001b[0m \u001b[0;34m=\u001b[0m \u001b[0;34m\"numpy\"\u001b[0m\u001b[0;34m,\u001b[0m\u001b[0;34m\u001b[0m\u001b[0;34m\u001b[0m\u001b[0m\n\u001b[1;32m   2737\u001b[0m     ) -> DataFrame | Iterator[DataFrame]:\n\u001b[0;32m-> 2738\u001b[0;31m         \u001b[0mcursor\u001b[0m \u001b[0;34m=\u001b[0m \u001b[0mself\u001b[0m\u001b[0;34m.\u001b[0m\u001b[0mexecute\u001b[0m\u001b[0;34m(\u001b[0m\u001b[0msql\u001b[0m\u001b[0;34m,\u001b[0m \u001b[0mparams\u001b[0m\u001b[0;34m)\u001b[0m\u001b[0;34m\u001b[0m\u001b[0;34m\u001b[0m\u001b[0m\n\u001b[0m\u001b[1;32m   2739\u001b[0m         \u001b[0mcolumns\u001b[0m \u001b[0;34m=\u001b[0m \u001b[0;34m[\u001b[0m\u001b[0mcol_desc\u001b[0m\u001b[0;34m[\u001b[0m\u001b[0;36m0\u001b[0m\u001b[0;34m]\u001b[0m \u001b[0;32mfor\u001b[0m \u001b[0mcol_desc\u001b[0m \u001b[0;32min\u001b[0m \u001b[0mcursor\u001b[0m\u001b[0;34m.\u001b[0m\u001b[0mdescription\u001b[0m\u001b[0;34m]\u001b[0m\u001b[0;34m\u001b[0m\u001b[0;34m\u001b[0m\u001b[0m\n\u001b[1;32m   2740\u001b[0m \u001b[0;34m\u001b[0m\u001b[0m\n",
            "\u001b[0;32m/usr/local/lib/python3.11/dist-packages/pandas/io/sql.py\u001b[0m in \u001b[0;36mexecute\u001b[0;34m(self, sql, params)\u001b[0m\n\u001b[1;32m   2684\u001b[0m \u001b[0;34m\u001b[0m\u001b[0m\n\u001b[1;32m   2685\u001b[0m             \u001b[0mex\u001b[0m \u001b[0;34m=\u001b[0m \u001b[0mDatabaseError\u001b[0m\u001b[0;34m(\u001b[0m\u001b[0;34mf\"Execution failed on sql '{sql}': {exc}\"\u001b[0m\u001b[0;34m)\u001b[0m\u001b[0;34m\u001b[0m\u001b[0;34m\u001b[0m\u001b[0m\n\u001b[0;32m-> 2686\u001b[0;31m             \u001b[0;32mraise\u001b[0m \u001b[0mex\u001b[0m \u001b[0;32mfrom\u001b[0m \u001b[0mexc\u001b[0m\u001b[0;34m\u001b[0m\u001b[0;34m\u001b[0m\u001b[0m\n\u001b[0m\u001b[1;32m   2687\u001b[0m \u001b[0;34m\u001b[0m\u001b[0m\n\u001b[1;32m   2688\u001b[0m     \u001b[0;34m@\u001b[0m\u001b[0mstaticmethod\u001b[0m\u001b[0;34m\u001b[0m\u001b[0;34m\u001b[0m\u001b[0m\n",
            "\u001b[0;31mDatabaseError\u001b[0m: Execution failed on sql '\nSELECT productline\nFROM productLines\n;\n': no such table: productLines"
          ]
        }
      ],
      "source": [
        "# Run this cell without changes\n",
        "q0 = \"\"\"\n",
        "SELECT productline\n",
        "FROM productLines\n",
        ";\n",
        "\"\"\"\n",
        "\n",
        "pd.read_sql(q0, conn)"
      ]
    },
    {
      "cell_type": "markdown",
      "metadata": {
        "id": "UESXi2yCwAFY"
      },
      "source": [
        "From now on, you will replace `None` within these Python strings with the actual SQL query code."
      ]
    },
    {
      "cell_type": "markdown",
      "metadata": {
        "id": "sFx3Sa_IwAFY"
      },
      "source": [
        "## Part 1: Basic Queries\n",
        "\n",
        "First, let's review some basic SQL queries, which do not require any joining, aggregation, or subqueries.\n",
        "\n",
        "### Query 1: Customers with Credit Over 25,000 in California\n",
        "Write a query that gets the contact first name, contact last name, phone number, address line 1, and credit limit for all customers in California with a credit limit greater than 25000.00.\n",
        "\n",
        "(California means that the `state` value is `'CA'`.)\n",
        "\n",
        "#### Expected Output\n",
        "\n",
        "<img src='https://curriculum-content.s3.amazonaws.com/data-science/images/expected_output_q1.png'>"
      ]
    },
    {
      "cell_type": "code",
      "execution_count": 1,
      "metadata": {
        "colab": {
          "base_uri": "https://localhost:8080/",
          "height": 193
        },
        "id": "Kt-PM_EHwAFY",
        "outputId": "69035fd6-1f22-4116-9c19-b8c73812420d"
      },
      "outputs": [
        {
          "output_type": "error",
          "ename": "NameError",
          "evalue": "name 'pd' is not defined",
          "traceback": [
            "\u001b[0;31m---------------------------------------------------------------------------\u001b[0m",
            "\u001b[0;31mNameError\u001b[0m                                 Traceback (most recent call last)",
            "\u001b[0;32m/tmp/ipython-input-3389772687.py\u001b[0m in \u001b[0;36m<cell line: 0>\u001b[0;34m()\u001b[0m\n\u001b[1;32m      7\u001b[0m \"\"\"\n\u001b[1;32m      8\u001b[0m \u001b[0;34m\u001b[0m\u001b[0m\n\u001b[0;32m----> 9\u001b[0;31m \u001b[0mq1_result\u001b[0m \u001b[0;34m=\u001b[0m \u001b[0mpd\u001b[0m\u001b[0;34m.\u001b[0m\u001b[0mread_sql\u001b[0m\u001b[0;34m(\u001b[0m\u001b[0mq1\u001b[0m\u001b[0;34m,\u001b[0m \u001b[0mconn\u001b[0m\u001b[0;34m)\u001b[0m\u001b[0;34m\u001b[0m\u001b[0;34m\u001b[0m\u001b[0m\n\u001b[0m\u001b[1;32m     10\u001b[0m \u001b[0mq1_result\u001b[0m\u001b[0;34m\u001b[0m\u001b[0;34m\u001b[0m\u001b[0m\n",
            "\u001b[0;31mNameError\u001b[0m: name 'pd' is not defined"
          ]
        }
      ],
      "source": [
        "# Replace None with appropriate SQL code\n",
        "q1 = \"\"\"\n",
        "SELECT contactFirstName, contactLastName, phone, addressLine1, creditLimit\n",
        "FROM customers\n",
        "WHERE state = 'CA' AND creditLimit > 25000.00\n",
        ";\n",
        "\"\"\"\n",
        "\n",
        "q1_result = pd.read_sql(q1, conn)\n",
        "q1_result"
      ]
    },
    {
      "cell_type": "markdown",
      "metadata": {
        "id": "aFzoPk9lwAFY"
      },
      "source": [
        "The following code checks that your result is correct:"
      ]
    },
    {
      "cell_type": "code",
      "execution_count": null,
      "metadata": {
        "id": "kCmaW69ywAFY"
      },
      "outputs": [],
      "source": [
        "# Run this cell without changes\n",
        "\n",
        "# Testing which columns are returned\n",
        "assert list(q1_result.columns) == ['contactFirstName', 'contactLastName', 'phone', 'addressLine1', 'creditLimit']\n",
        "\n",
        "# Testing how many rows are returned\n",
        "assert len(q1_result) == 10\n",
        "\n",
        "# Testing the values in the first result\n",
        "assert list(q1_result.iloc[0]) == ['Susan', 'Nelson', '4155551450', '5677 Strong St.', 210500]"
      ]
    },
    {
      "cell_type": "markdown",
      "metadata": {
        "id": "X1EYsB3lwAFZ"
      },
      "source": [
        "### Query 2: Customers Outside of the USA with \"Collect\" in Their Name\n",
        "\n",
        "Write a query that gets the customer name, state, and country, for all customers outside of the USA with `\"Collect\"` as part of their customer name.\n",
        "\n",
        "We are looking for customers with names like `\"Australian Collectors, Co.\"` or `\"BG&E Collectables\"`, where `country` is not `\"USA\"`.\n",
        "\n",
        "#### Expected Output\n",
        "\n",
        "<img src='https://curriculum-content.s3.amazonaws.com/data-science/images/expected_output_q2.png'>"
      ]
    },
    {
      "cell_type": "code",
      "execution_count": 2,
      "metadata": {
        "colab": {
          "base_uri": "https://localhost:8080/",
          "height": 193
        },
        "id": "2waZ8o5cwAFZ",
        "outputId": "5c708fe0-2d01-444a-813c-d09dc97f5f44"
      },
      "outputs": [
        {
          "output_type": "error",
          "ename": "NameError",
          "evalue": "name 'pd' is not defined",
          "traceback": [
            "\u001b[0;31m---------------------------------------------------------------------------\u001b[0m",
            "\u001b[0;31mNameError\u001b[0m                                 Traceback (most recent call last)",
            "\u001b[0;32m/tmp/ipython-input-3294144326.py\u001b[0m in \u001b[0;36m<cell line: 0>\u001b[0;34m()\u001b[0m\n\u001b[1;32m      7\u001b[0m \"\"\"\n\u001b[1;32m      8\u001b[0m \u001b[0;34m\u001b[0m\u001b[0m\n\u001b[0;32m----> 9\u001b[0;31m \u001b[0mq2_result\u001b[0m \u001b[0;34m=\u001b[0m \u001b[0mpd\u001b[0m\u001b[0;34m.\u001b[0m\u001b[0mread_sql\u001b[0m\u001b[0;34m(\u001b[0m\u001b[0mq2\u001b[0m\u001b[0;34m,\u001b[0m \u001b[0mconn\u001b[0m\u001b[0;34m)\u001b[0m\u001b[0;34m\u001b[0m\u001b[0;34m\u001b[0m\u001b[0m\n\u001b[0m\u001b[1;32m     10\u001b[0m \u001b[0mq2_result\u001b[0m\u001b[0;34m\u001b[0m\u001b[0;34m\u001b[0m\u001b[0m\n",
            "\u001b[0;31mNameError\u001b[0m: name 'pd' is not defined"
          ]
        }
      ],
      "source": [
        "# Replace None with appropriate SQL code\n",
        "q2 = \"\"\"\n",
        "SELECT customerName, state, country\n",
        "FROM customers\n",
        "WHERE country != 'USA' AND customerName LIKE '%Collect%'\n",
        ";\n",
        "\"\"\"\n",
        "\n",
        "q2_result = pd.read_sql(q2, conn)\n",
        "q2_result"
      ]
    },
    {
      "cell_type": "markdown",
      "metadata": {
        "id": "nnco_SSXwAFZ"
      },
      "source": [
        "The following code checks that your result is correct:"
      ]
    },
    {
      "cell_type": "code",
      "execution_count": null,
      "metadata": {
        "id": "qiYL6Yo5wAFZ"
      },
      "outputs": [],
      "source": [
        "# Run this cell without changes\n",
        "\n",
        "# Testing which columns are returned\n",
        "assert list(q2_result.columns) == ['customerName', 'state', 'country']\n",
        "\n",
        "# Testing how many rows are returned\n",
        "assert len(q2_result) == 15\n",
        "\n",
        "# Testing the values in the first result\n",
        "assert list(q2_result.iloc[0]) == ['Australian Collectors, Co.', 'Victoria', 'Australia']"
      ]
    },
    {
      "cell_type": "markdown",
      "metadata": {
        "id": "vYoZiH8lwAFZ"
      },
      "source": [
        "### Query 3: Customers without Null States\n",
        "\n",
        "Write a query that gets the full address (line 1, line 2, city, state, postal code, country) for all customers where the `state` field is not null.\n",
        "\n",
        "Here we'll only display the first 10 results.\n",
        "\n",
        "#### Expected Output\n",
        "\n",
        "<img src='https://curriculum-content.s3.amazonaws.com/data-science/images/expected_output_q3.png'>"
      ]
    },
    {
      "cell_type": "code",
      "execution_count": 3,
      "metadata": {
        "colab": {
          "base_uri": "https://localhost:8080/",
          "height": 193
        },
        "id": "uqIDnhNtwAFZ",
        "outputId": "b14e48ff-3f90-4f29-b249-f179ced00859"
      },
      "outputs": [
        {
          "output_type": "error",
          "ename": "NameError",
          "evalue": "name 'pd' is not defined",
          "traceback": [
            "\u001b[0;31m---------------------------------------------------------------------------\u001b[0m",
            "\u001b[0;31mNameError\u001b[0m                                 Traceback (most recent call last)",
            "\u001b[0;32m/tmp/ipython-input-37432602.py\u001b[0m in \u001b[0;36m<cell line: 0>\u001b[0;34m()\u001b[0m\n\u001b[1;32m      7\u001b[0m \"\"\"\n\u001b[1;32m      8\u001b[0m \u001b[0;34m\u001b[0m\u001b[0m\n\u001b[0;32m----> 9\u001b[0;31m \u001b[0mq3_result\u001b[0m \u001b[0;34m=\u001b[0m \u001b[0mpd\u001b[0m\u001b[0;34m.\u001b[0m\u001b[0mread_sql\u001b[0m\u001b[0;34m(\u001b[0m\u001b[0mq3\u001b[0m\u001b[0;34m,\u001b[0m \u001b[0mconn\u001b[0m\u001b[0;34m)\u001b[0m\u001b[0;34m\u001b[0m\u001b[0;34m\u001b[0m\u001b[0m\n\u001b[0m\u001b[1;32m     10\u001b[0m \u001b[0mq3_result\u001b[0m\u001b[0;34m.\u001b[0m\u001b[0mhead\u001b[0m\u001b[0;34m(\u001b[0m\u001b[0;36m10\u001b[0m\u001b[0;34m)\u001b[0m\u001b[0;34m\u001b[0m\u001b[0;34m\u001b[0m\u001b[0m\n",
            "\u001b[0;31mNameError\u001b[0m: name 'pd' is not defined"
          ]
        }
      ],
      "source": [
        "# Replace None with appropriate SQL code\n",
        "q3 = \"\"\"\n",
        "SELECT addressLine1, addressLine2, city, state, postalCode, country\n",
        "FROM customers\n",
        "WHERE state IS NOT NULL\n",
        ";\n",
        "\"\"\"\n",
        "\n",
        "q3_result = pd.read_sql(q3, conn)\n",
        "q3_result.head(10)"
      ]
    },
    {
      "cell_type": "markdown",
      "metadata": {
        "id": "x6MDSaUbwAFZ"
      },
      "source": [
        "The following code checks that your result is correct:"
      ]
    },
    {
      "cell_type": "code",
      "execution_count": null,
      "metadata": {
        "id": "mbrEtBcGwAFZ"
      },
      "outputs": [],
      "source": [
        "# Run this cell without changes\n",
        "\n",
        "# Testing which columns are returned\n",
        "assert list(q3_result.columns) == ['addressLine1', 'addressLine2', 'city', 'state', 'postalCode', 'country']\n",
        "\n",
        "# Testing how many rows are returned\n",
        "assert len(q3_result) == 49\n",
        "\n",
        "# Testing the values in the first result\n",
        "assert list(q3_result.iloc[0]) == ['8489 Strong St.', '', 'Las Vegas', 'NV', '83030', 'USA']"
      ]
    },
    {
      "cell_type": "markdown",
      "metadata": {
        "id": "-7Dql-cqwAFa"
      },
      "source": [
        "You have now completed all of the basic queries!\n",
        "\n",
        "## Part 2: Aggregate and Join Queries\n",
        "\n",
        "### Query 4: Average Credit Limit by State in USA\n",
        "\n",
        "Write a query that gets the average credit limit per state in the USA.\n",
        "\n",
        "The two fields selected should be `state` and `average_credit_limit`, which is the average of the `creditLimit` field for that state.\n",
        "\n",
        "#### Expected Output\n",
        "\n",
        "<img src='https://curriculum-content.s3.amazonaws.com/data-science/images/expected_output_q4.png'>"
      ]
    },
    {
      "cell_type": "code",
      "execution_count": 4,
      "metadata": {
        "colab": {
          "base_uri": "https://localhost:8080/",
          "height": 193
        },
        "id": "H_iS9bNqwAFa",
        "outputId": "c46777af-3d92-494d-ecb4-0169841ac6d3"
      },
      "outputs": [
        {
          "output_type": "error",
          "ename": "NameError",
          "evalue": "name 'pd' is not defined",
          "traceback": [
            "\u001b[0;31m---------------------------------------------------------------------------\u001b[0m",
            "\u001b[0;31mNameError\u001b[0m                                 Traceback (most recent call last)",
            "\u001b[0;32m/tmp/ipython-input-3319672785.py\u001b[0m in \u001b[0;36m<cell line: 0>\u001b[0;34m()\u001b[0m\n\u001b[1;32m      8\u001b[0m \"\"\"\n\u001b[1;32m      9\u001b[0m \u001b[0;34m\u001b[0m\u001b[0m\n\u001b[0;32m---> 10\u001b[0;31m \u001b[0mq4_result\u001b[0m \u001b[0;34m=\u001b[0m \u001b[0mpd\u001b[0m\u001b[0;34m.\u001b[0m\u001b[0mread_sql\u001b[0m\u001b[0;34m(\u001b[0m\u001b[0mq4\u001b[0m\u001b[0;34m,\u001b[0m \u001b[0mconn\u001b[0m\u001b[0;34m)\u001b[0m\u001b[0;34m\u001b[0m\u001b[0;34m\u001b[0m\u001b[0m\n\u001b[0m\u001b[1;32m     11\u001b[0m \u001b[0mq4_result\u001b[0m\u001b[0;34m\u001b[0m\u001b[0;34m\u001b[0m\u001b[0m\n",
            "\u001b[0;31mNameError\u001b[0m: name 'pd' is not defined"
          ]
        }
      ],
      "source": [
        "# Replace None with appropriate SQL code\n",
        "q4 = \"\"\"\n",
        "SELECT state, AVG(creditLimit) AS average_credit_limit\n",
        "FROM customers\n",
        "WHERE country = 'USA'\n",
        "GROUP BY state\n",
        ";\n",
        "\"\"\"\n",
        "\n",
        "q4_result = pd.read_sql(q4, conn)\n",
        "q4_result"
      ]
    },
    {
      "cell_type": "markdown",
      "metadata": {
        "id": "lzCKEi_dwAFa"
      },
      "source": [
        "The following code checks that your result is correct:"
      ]
    },
    {
      "cell_type": "code",
      "execution_count": null,
      "metadata": {
        "id": "nMRBDw7rwAFa"
      },
      "outputs": [],
      "source": [
        "# Run this cell without changes\n",
        "\n",
        "# Testing which columns are returned\n",
        "assert list(q4_result.columns) == ['state', 'average_credit_limit']\n",
        "\n",
        "# Testing how many rows are returned\n",
        "assert len(q4_result) == 8\n",
        "\n",
        "# Testing the values in the first result\n",
        "first_result_list = list(q4_result.iloc[0])\n",
        "assert first_result_list[0] == 'CA'\n",
        "assert round(first_result_list[1], 3) == round(83854.54545454546, 3)"
      ]
    },
    {
      "cell_type": "markdown",
      "metadata": {
        "id": "h5yOMK9swAFa"
      },
      "source": [
        "### Query 5: Joining Customers and Orders\n",
        "\n",
        "Write a query that uses `JOIN` statements to get the customer name, order number, and status for all orders. For this example, stick to a simple join and avoid using sub-queries.\n",
        "\n",
        "- To ensure that your results will pass, make sure your output resembles the image below, __including the order of the column names__.\n",
        "\n",
        "- Refer to the ERD above to understand which tables contain these pieces of information, and the relationship between these tables.\n",
        "\n",
        "#### Expected Output\n",
        "\n",
        "<img src='https://curriculum-content.s3.amazonaws.com/data-science/images/expected_output_q5.png'>"
      ]
    },
    {
      "cell_type": "code",
      "execution_count": 5,
      "metadata": {
        "colab": {
          "base_uri": "https://localhost:8080/",
          "height": 193
        },
        "id": "bXr13MlrwAFa",
        "outputId": "4cf8f6f3-4b7c-45b5-a4a9-51c220bef827"
      },
      "outputs": [
        {
          "output_type": "error",
          "ename": "NameError",
          "evalue": "name 'pd' is not defined",
          "traceback": [
            "\u001b[0;31m---------------------------------------------------------------------------\u001b[0m",
            "\u001b[0;31mNameError\u001b[0m                                 Traceback (most recent call last)",
            "\u001b[0;32m/tmp/ipython-input-3236753101.py\u001b[0m in \u001b[0;36m<cell line: 0>\u001b[0;34m()\u001b[0m\n\u001b[1;32m      6\u001b[0m \u001b[0;34m;\u001b[0m\u001b[0;34m\u001b[0m\u001b[0;34m\u001b[0m\u001b[0m\n\u001b[1;32m      7\u001b[0m \"\"\"\n\u001b[0;32m----> 8\u001b[0;31m \u001b[0mq5_result\u001b[0m \u001b[0;34m=\u001b[0m \u001b[0mpd\u001b[0m\u001b[0;34m.\u001b[0m\u001b[0mread_sql\u001b[0m\u001b[0;34m(\u001b[0m\u001b[0mq5\u001b[0m\u001b[0;34m,\u001b[0m \u001b[0mconn\u001b[0m\u001b[0;34m)\u001b[0m\u001b[0;34m\u001b[0m\u001b[0;34m\u001b[0m\u001b[0m\n\u001b[0m\u001b[1;32m      9\u001b[0m \u001b[0mq5_result\u001b[0m\u001b[0;34m.\u001b[0m\u001b[0mhead\u001b[0m\u001b[0;34m(\u001b[0m\u001b[0;36m15\u001b[0m\u001b[0;34m)\u001b[0m\u001b[0;34m\u001b[0m\u001b[0;34m\u001b[0m\u001b[0m\n",
            "\u001b[0;31mNameError\u001b[0m: name 'pd' is not defined"
          ]
        }
      ],
      "source": [
        "# Replace None with appropriate SQL code\n",
        "q5 = \"\"\"\n",
        "SELECT c.customerName, o.orderNumber, o.status\n",
        "FROM customers c\n",
        "JOIN orders o ON c.customerNumber = o.customerNumber\n",
        ";\n",
        "\"\"\"\n",
        "q5_result = pd.read_sql(q5, conn)\n",
        "q5_result.head(15)"
      ]
    },
    {
      "cell_type": "markdown",
      "metadata": {
        "id": "hZhGo3H7wAFa"
      },
      "source": [
        "The following code checks that your result is correct:"
      ]
    },
    {
      "cell_type": "code",
      "execution_count": null,
      "metadata": {
        "id": "llKNwvkuwAFb"
      },
      "outputs": [],
      "source": [
        "# Run this cell without changes\n",
        "\n",
        "# Testing which columns are returned\n",
        "assert list(q5_result.columns) == ['customerName', 'orderNumber', 'status']\n",
        "\n",
        "# Testing how many rows are returned\n",
        "assert len(q5_result) == 326\n",
        "\n",
        "# Testing the values in the first result\n",
        "assert list(q5_result.iloc[0]) == ['Atelier graphique', 10123, 'Shipped']"
      ]
    },
    {
      "cell_type": "markdown",
      "metadata": {
        "id": "XT8HV2iowAFb"
      },
      "source": [
        "### Query 6: Total Payments\n",
        "\n",
        "Write a query that uses `JOIN` statements to get top 10 customers in terms of total payment amount. Find the customer name, customer number, and sum of all payments made. The results should be ordered by the sum of payments made, starting from the highest value.\n",
        "\n",
        "The three columns selected should be `customerName`, `customerNumber` and `total_payment_amount`.\n",
        "\n",
        "#### Expected Output\n",
        "\n",
        "<img src='https://curriculum-content.s3.amazonaws.com/data-science/images/expected_output_q6.png'>"
      ]
    },
    {
      "cell_type": "code",
      "execution_count": 6,
      "metadata": {
        "colab": {
          "base_uri": "https://localhost:8080/",
          "height": 193
        },
        "id": "paCKG36uwAFb",
        "outputId": "4aa4b56c-94e2-4efa-bb4b-e96b45c62b2e"
      },
      "outputs": [
        {
          "output_type": "error",
          "ename": "NameError",
          "evalue": "name 'pd' is not defined",
          "traceback": [
            "\u001b[0;31m---------------------------------------------------------------------------\u001b[0m",
            "\u001b[0;31mNameError\u001b[0m                                 Traceback (most recent call last)",
            "\u001b[0;32m/tmp/ipython-input-2861983295.py\u001b[0m in \u001b[0;36m<cell line: 0>\u001b[0;34m()\u001b[0m\n\u001b[1;32m      9\u001b[0m \u001b[0;34m;\u001b[0m\u001b[0;34m\u001b[0m\u001b[0;34m\u001b[0m\u001b[0m\n\u001b[1;32m     10\u001b[0m \"\"\"\n\u001b[0;32m---> 11\u001b[0;31m \u001b[0mq6_result\u001b[0m \u001b[0;34m=\u001b[0m \u001b[0mpd\u001b[0m\u001b[0;34m.\u001b[0m\u001b[0mread_sql\u001b[0m\u001b[0;34m(\u001b[0m\u001b[0mq6\u001b[0m\u001b[0;34m,\u001b[0m \u001b[0mconn\u001b[0m\u001b[0;34m)\u001b[0m\u001b[0;34m\u001b[0m\u001b[0;34m\u001b[0m\u001b[0m\n\u001b[0m\u001b[1;32m     12\u001b[0m \u001b[0mq6_result\u001b[0m\u001b[0;34m\u001b[0m\u001b[0;34m\u001b[0m\u001b[0m\n",
            "\u001b[0;31mNameError\u001b[0m: name 'pd' is not defined"
          ]
        }
      ],
      "source": [
        "# Replace None with appropriate SQL code\n",
        "q6 = \"\"\"\n",
        "SELECT c.customerName, c.customerNumber, SUM(p.amount) AS total_payment_amount\n",
        "FROM customers c\n",
        "JOIN payments p ON c.customerNumber = p.customerNumber\n",
        "GROUP BY c.customerNumber, c.customerName\n",
        "ORDER BY total_payment_amount DESC\n",
        "LIMIT 10\n",
        ";\n",
        "\"\"\"\n",
        "q6_result = pd.read_sql(q6, conn)\n",
        "q6_result"
      ]
    },
    {
      "cell_type": "markdown",
      "metadata": {
        "id": "uvjcsi7OwAFb"
      },
      "source": [
        "The following code checks that your result is correct:"
      ]
    },
    {
      "cell_type": "code",
      "execution_count": null,
      "metadata": {
        "id": "tzFDHOVtwAFb"
      },
      "outputs": [],
      "source": [
        "# Run this cell without changes\n",
        "\n",
        "# Testing which columns are returned\n",
        "assert list(q6_result.columns) == ['customerName', 'customerNumber', 'total_payment_amount']\n",
        "\n",
        "# Testing how many rows are returned\n",
        "assert len(q6_result) == 10\n",
        "\n",
        "# Testing the values in the first result\n",
        "assert list(q6_result.iloc[0]) == ['Euro+ Shopping Channel', 141, 715738.98]"
      ]
    },
    {
      "cell_type": "markdown",
      "metadata": {
        "id": "cJdX8u9FwAFb"
      },
      "source": [
        "### Query 7: Products that Have Been Purchased 10 or More Times\n",
        "\n",
        "Write a query that, for each customer, finds all of the products that they have purchased 10 or more times cumulatively. For each record, return  the customer name, customer number, product name, product code, and total number ordered. Sort the rows in ascending order by the quantity ordered.\n",
        "\n",
        "The five columns selected should be `customerName`, `customerNumber`, `productName`, `productCode`, and `total_ordered`, where `total_ordered` is the sum of all quantities of that product ordered by that customer.\n",
        "\n",
        "**_Hint_**: For this one, you'll need to make use of `HAVING`, `GROUP BY`, and `ORDER BY` — make sure you get the order of them correct!\n",
        "\n",
        "#### Expected Output\n",
        "\n",
        "<img src='https://curriculum-content.s3.amazonaws.com/data-science/images/expected_output_q7.png'>"
      ]
    },
    {
      "cell_type": "code",
      "execution_count": 7,
      "metadata": {
        "colab": {
          "base_uri": "https://localhost:8080/",
          "height": 193
        },
        "id": "ge7xLihbwAFc",
        "outputId": "26299fdd-4b6b-41f3-a740-d51f68a59609"
      },
      "outputs": [
        {
          "output_type": "error",
          "ename": "NameError",
          "evalue": "name 'pd' is not defined",
          "traceback": [
            "\u001b[0;31m---------------------------------------------------------------------------\u001b[0m",
            "\u001b[0;31mNameError\u001b[0m                                 Traceback (most recent call last)",
            "\u001b[0;32m/tmp/ipython-input-2465705383.py\u001b[0m in \u001b[0;36m<cell line: 0>\u001b[0;34m()\u001b[0m\n\u001b[1;32m     11\u001b[0m \u001b[0;34m;\u001b[0m\u001b[0;34m\u001b[0m\u001b[0;34m\u001b[0m\u001b[0m\n\u001b[1;32m     12\u001b[0m \"\"\"\n\u001b[0;32m---> 13\u001b[0;31m \u001b[0mq7_result\u001b[0m \u001b[0;34m=\u001b[0m \u001b[0mpd\u001b[0m\u001b[0;34m.\u001b[0m\u001b[0mread_sql\u001b[0m\u001b[0;34m(\u001b[0m\u001b[0mq7\u001b[0m\u001b[0;34m,\u001b[0m \u001b[0mconn\u001b[0m\u001b[0;34m)\u001b[0m\u001b[0;34m\u001b[0m\u001b[0;34m\u001b[0m\u001b[0m\n\u001b[0m\u001b[1;32m     14\u001b[0m \u001b[0mq7_result\u001b[0m\u001b[0;34m\u001b[0m\u001b[0;34m\u001b[0m\u001b[0m\n",
            "\u001b[0;31mNameError\u001b[0m: name 'pd' is not defined"
          ]
        }
      ],
      "source": [
        "# Replace None with approprite SQL code\n",
        "q7 = \"\"\"\n",
        "SELECT c.customerName, c.customerNumber, p.productName, p.productCode, SUM(od.quantityOrdered) AS total_ordered\n",
        "FROM customers c\n",
        "JOIN orders o ON c.customerNumber = o.customerNumber\n",
        "JOIN orderdetails od ON o.orderNumber = od.orderNumber\n",
        "JOIN products p ON od.productCode = p.productCode\n",
        "GROUP BY c.customerNumber, c.customerName, p.productCode, p.productName\n",
        "HAVING SUM(od.quantityOrdered) >= 10\n",
        "ORDER BY total_ordered ASC\n",
        ";\n",
        "\"\"\"\n",
        "q7_result = pd.read_sql(q7, conn)\n",
        "q7_result"
      ]
    },
    {
      "cell_type": "markdown",
      "metadata": {
        "id": "lER-qBqXwAFc"
      },
      "source": [
        "The following code checks that your result is correct:"
      ]
    },
    {
      "cell_type": "code",
      "execution_count": null,
      "metadata": {
        "id": "ve2hCrXywAFc"
      },
      "outputs": [],
      "source": [
        "# Run this cell without changes\n",
        "\n",
        "# Testing which columns are returned\n",
        "assert list(q7_result.columns) == ['customerName', 'customerNumber', 'productName', 'productCode', 'total_ordered']\n",
        "\n",
        "# Testing how many rows are returned\n",
        "assert len(q7_result) == 2531\n",
        "\n",
        "# Testing the values in the first result\n",
        "assert list(q7_result.iloc[0]) == ['Petit Auto', 314, '1913 Ford Model T Speedster', 'S18_2949', 10]"
      ]
    },
    {
      "cell_type": "markdown",
      "metadata": {
        "id": "CBaUYG3CwAFc"
      },
      "source": [
        "### Query 8: Employees in Offices with Fewer than Five Employees\n",
        "\n",
        "Finally, get the last name, first name, employee number, and office code for employees from offices with fewer than 5 employees.\n",
        "\n",
        "***Hint:*** Use a subquery to find the relevant offices.\n",
        "\n",
        "#### Expected Output\n",
        "\n",
        "<img src='https://curriculum-content.s3.amazonaws.com/data-science/images/expected_output_q8.png'>"
      ]
    },
    {
      "cell_type": "code",
      "execution_count": 8,
      "metadata": {
        "colab": {
          "base_uri": "https://localhost:8080/",
          "height": 193
        },
        "id": "l9zghSXRwAFc",
        "outputId": "b546aae1-648e-4a90-d844-79edf46d5e7e"
      },
      "outputs": [
        {
          "output_type": "error",
          "ename": "NameError",
          "evalue": "name 'pd' is not defined",
          "traceback": [
            "\u001b[0;31m---------------------------------------------------------------------------\u001b[0m",
            "\u001b[0;31mNameError\u001b[0m                                 Traceback (most recent call last)",
            "\u001b[0;32m/tmp/ipython-input-3454884541.py\u001b[0m in \u001b[0;36m<cell line: 0>\u001b[0;34m()\u001b[0m\n\u001b[1;32m     11\u001b[0m \u001b[0;34m;\u001b[0m\u001b[0;34m\u001b[0m\u001b[0;34m\u001b[0m\u001b[0m\n\u001b[1;32m     12\u001b[0m \"\"\"\n\u001b[0;32m---> 13\u001b[0;31m \u001b[0mq8_result\u001b[0m \u001b[0;34m=\u001b[0m \u001b[0mpd\u001b[0m\u001b[0;34m.\u001b[0m\u001b[0mread_sql\u001b[0m\u001b[0;34m(\u001b[0m\u001b[0mq8\u001b[0m\u001b[0;34m,\u001b[0m \u001b[0mconn\u001b[0m\u001b[0;34m)\u001b[0m\u001b[0;34m\u001b[0m\u001b[0;34m\u001b[0m\u001b[0m\n\u001b[0m\u001b[1;32m     14\u001b[0m \u001b[0mq8_result\u001b[0m\u001b[0;34m\u001b[0m\u001b[0;34m\u001b[0m\u001b[0m\n",
            "\u001b[0;31mNameError\u001b[0m: name 'pd' is not defined"
          ]
        }
      ],
      "source": [
        "# Replace None with approprite SQL code\n",
        "q8 = \"\"\"\n",
        "SELECT e.lastName, e.firstName, e.employeeNumber, e.officeCode\n",
        "FROM employees e\n",
        "WHERE e.officeCode IN (\n",
        "    SELECT officeCode\n",
        "    FROM employees\n",
        "    GROUP BY officeCode\n",
        "    HAVING COUNT(*) < 5\n",
        ")\n",
        ";\n",
        "\"\"\"\n",
        "q8_result = pd.read_sql(q8, conn)\n",
        "q8_result"
      ]
    },
    {
      "cell_type": "markdown",
      "metadata": {
        "id": "sjX2AjmAwAFc"
      },
      "source": [
        "The following code checks that your result is correct:"
      ]
    },
    {
      "cell_type": "code",
      "execution_count": null,
      "metadata": {
        "id": "QMKFUOg2wAFc"
      },
      "outputs": [],
      "source": [
        "# Run this cell without changes\n",
        "\n",
        "# Testing which columns are returned\n",
        "assert list(q8_result.columns) == ['lastName', 'firstName', 'employeeNumber', 'officeCode']\n",
        "\n",
        "# Testing how many rows are returned\n",
        "assert len(q8_result) == 12\n",
        "\n",
        "# Testing the values in the first result\n",
        "assert list(q8_result.iloc[0]) == ['Patterson', 'William', 1088, 6]"
      ]
    },
    {
      "cell_type": "markdown",
      "metadata": {
        "id": "pdDa3t35wAFn"
      },
      "source": [
        "Now that we are finished writing queries, close the connection to the database:"
      ]
    },
    {
      "cell_type": "code",
      "execution_count": null,
      "metadata": {
        "id": "0MQPHcBswAFn"
      },
      "outputs": [],
      "source": [
        "# Run this cell without changes\n",
        "conn.close()"
      ]
    },
    {
      "cell_type": "markdown",
      "metadata": {
        "id": "oPlLClRCwAFn"
      },
      "source": [
        "## Summary\n",
        "\n",
        "In this lesson, we produced several data queries for a model car company, mainly focused around its customer data. Along the way, we reviewed many of the major concepts and keywords associated with SQL `SELECT` queries: `FROM`, `WHERE`, `GROUP BY`, `HAVING`, `ORDER BY`, `JOIN`, `SUM`, `COUNT`, and `AVG`."
      ]
    }
  ],
  "metadata": {
    "kernelspec": {
      "display_name": "Python 3",
      "language": "python",
      "name": "python3"
    },
    "language_info": {
      "codemirror_mode": {
        "name": "ipython",
        "version": 3
      },
      "file_extension": ".py",
      "mimetype": "text/x-python",
      "name": "python",
      "nbconvert_exporter": "python",
      "pygments_lexer": "ipython3",
      "version": "3.8.5"
    },
    "colab": {
      "provenance": []
    }
  },
  "nbformat": 4,
  "nbformat_minor": 0
}